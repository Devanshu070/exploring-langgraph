{
 "cells": [
  {
   "cell_type": "code",
   "execution_count": null,
   "id": "70ee3bc9",
   "metadata": {},
   "outputs": [
    {
     "name": "stdout",
     "output_type": "stream",
     "text": [
      "Running B\n",
      "Running C\n",
      "{'individual_scores': [2, 4], 'avg_score': 3.0}\n"
     ]
    }
   ],
   "source": [
    "from typing import Annotated, TypedDict, List\n",
    "import operator\n",
    "from langgraph.graph import StateGraph, START, END\n",
    "\n",
    "# Step 1: Define state with merge logic\n",
    "class State(TypedDict):\n",
    "    individual_scores: Annotated[List[int], operator.add]\n",
    "    avg_score: float  # Final result\n",
    "\n",
    "# Step 2: Define the start and individual nodes\n",
    "def start(_: State) -> State:\n",
    "    return {}\n",
    "\n",
    "def node_b(state: State) -> State:\n",
    "    print(\"Running B\")\n",
    "    return {\"individual_scores\": [2]}\n",
    "\n",
    "def node_c(state: State) -> State:\n",
    "    print(\"Running C\")\n",
    "    return {\"individual_scores\": [4]}\n",
    "\n",
    "def calculate_average(state: State) -> State:\n",
    "    scores = state[\"individual_scores\"]\n",
    "    avg = sum(scores) / len(scores) if scores else 0.0\n",
    "    return {\"avg_score\": avg}\n",
    "\n",
    "# Step 3: Build the graph\n",
    "graph = StateGraph(State)\n",
    "\n",
    "graph.add_node(\"Start\", start)\n",
    "graph.add_node(\"B\", node_b)\n",
    "graph.add_node(\"C\", node_c)\n",
    "graph.add_node(\"Average\", calculate_average)\n",
    "\n",
    "graph.set_entry_point(\"Start\")\n",
    "graph.add_edge(\"Start\", \"B\")\n",
    "graph.add_edge(\"Start\", \"C\")\n",
    "graph.add_edge(\"B\", \"Average\")\n",
    "graph.add_edge(\"C\", \"Average\")\n",
    "graph.add_edge(\"Average\", END)\n",
    "\n",
    "# Step 4: Compile and run\n",
    "app = graph.compile()\n",
    "result = app.invoke({})\n",
    "print(result)\n"
   ]
  }
 ],
 "metadata": {
  "kernelspec": {
   "display_name": "myenv (3.9.6)",
   "language": "python",
   "name": "python3"
  },
  "language_info": {
   "codemirror_mode": {
    "name": "ipython",
    "version": 3
   },
   "file_extension": ".py",
   "mimetype": "text/x-python",
   "name": "python",
   "nbconvert_exporter": "python",
   "pygments_lexer": "ipython3",
   "version": "3.9.6"
  }
 },
 "nbformat": 4,
 "nbformat_minor": 5
}
