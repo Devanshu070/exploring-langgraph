{
 "cells": [
  {
   "cell_type": "code",
   "execution_count": 1,
   "id": "0988934e",
   "metadata": {},
   "outputs": [
    {
     "name": "stdout",
     "output_type": "stream",
     "text": [
      "Condition B is true\n",
      "{'a': 'false', 'b': 'true', 'c': 'false', 'result': 'B was executed'}\n"
     ]
    },
    {
     "name": "stderr",
     "output_type": "stream",
     "text": [
      "/Users/devanshu/Desktop/exploring-langgraph/myenv/lib/python3.9/site-packages/urllib3/__init__.py:35: NotOpenSSLWarning: urllib3 v2 only supports OpenSSL 1.1.1+, currently the 'ssl' module is compiled with 'LibreSSL 2.8.3'. See: https://github.com/urllib3/urllib3/issues/3020\n",
      "  warnings.warn(\n"
     ]
    }
   ],
   "source": [
    "from typing import Annotated, TypedDict, List, Literal\n",
    "import operator\n",
    "from langgraph.graph import StateGraph, START, END\n",
    "\n",
    "# Step 1: Define state with merge logic\n",
    "class State(TypedDict):\n",
    "    a : str\n",
    "    b : str\n",
    "    c : str\n",
    "    num : float\n",
    "    result : str\n",
    "\n",
    "# Step 2: Define the start and individual nodes\n",
    "def start(_: State) -> State:\n",
    "    return {}\n",
    "\n",
    "def condition_check(state: State) -> Literal['node_a', 'node_b', 'node_c']:\n",
    "    if state[\"a\"] == \"true\":\n",
    "        return 'node_a'\n",
    "    elif state[\"b\"] == \"true\":\n",
    "        return 'node_b'\n",
    "    elif state[\"c\"] == \"true\":\n",
    "        return 'node_c'\n",
    "    else:\n",
    "        print(\"No conditions met\")\n",
    "        return state\n",
    "\n",
    "def node_b(state: State) -> State:\n",
    "    print(\"Condition B is true\")\n",
    "    state[\"result\"] = \"B was executed\"\n",
    "    return {\"result\": state[\"result\"]} \n",
    "\n",
    "def node_a(state: State) -> State:\n",
    "    print(\"Condition A is true\")\n",
    "    state[\"result\"] = \"A was executed\"\n",
    "    return {\"result\": state[\"result\"]}\n",
    "\n",
    "def node_c(state: State) -> State:\n",
    "    print(\"Condition C is true\")\n",
    "    state[\"result\"] = \"C was executed\"\n",
    "    return {\"result\": state[\"result\"]}\n",
    "\n",
    "\n",
    "# Step 3: Build the graph\n",
    "graph = StateGraph(State)\n",
    "graph.add_node(\"node_a\", node_a)\n",
    "graph.add_node(\"node_b\", node_b)\n",
    "graph.add_node(\"node_c\", node_c)\n",
    "\n",
    "\n",
    "graph.add_conditional_edges(START, condition_check)\n",
    "graph.add_edge(\"node_a\", END)\n",
    "graph.add_edge(\"node_b\", END)\n",
    "graph.add_edge(\"node_c\", END)\n",
    "\n",
    "# Step 4: Compile and run\n",
    "app = graph.compile()\n",
    "result = app.invoke({\"b\":\"true\", \"c\":\"false\", \"a\":\"false\"})\n",
    "print(result)\n"
   ]
  },
  {
   "cell_type": "code",
   "execution_count": 2,
   "id": "24b26943",
   "metadata": {},
   "outputs": [
    {
     "data": {
      "image/png": "[encoded data removed]",
      "text/plain": [
       "<langgraph.graph.state.CompiledStateGraph object at 0x120a6ab50>"
      ]
     },
     "execution_count": 2,
     "metadata": {},
     "output_type": "execute_result"
    }
   ],
   "source": [
    "app"
   ]
  }
 ],
 "metadata": {
  "kernelspec": {
   "display_name": "myenv (3.9.6)",
   "language": "python",
   "name": "python3"
  },
  "language_info": {
   "codemirror_mode": {
    "name": "ipython",
    "version": 3
   },
   "file_extension": ".py",
   "mimetype": "text/x-python",
   "name": "python",
   "nbconvert_exporter": "python",
   "pygments_lexer": "ipython3",
   "version": "3.9.6"
  }
 },
 "nbformat": 4,
 "nbformat_minor": 5
}
