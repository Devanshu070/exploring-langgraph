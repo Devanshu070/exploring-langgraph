{
 "cells": [
  {
   "cell_type": "code",
   "execution_count": 30,
   "id": "212720b1",
   "metadata": {},
   "outputs": [],
   "source": [
    "from langgraph.graph import StateGraph, START, END\n",
    "from typing import TypedDict\n",
    "from langchain.chat_models import ChatOpenAI\n",
    "from langchain.llms import OpenAI\n",
    "from dotenv import load_dotenv\n",
    "import os"
   ]
  },
  {
   "cell_type": "code",
   "execution_count": null,
   "id": "8bbec198",
   "metadata": {},
   "outputs": [],
   "source": [
    "# load_dotenv()\n",
    "# api_key = os.getenv(\"OPENAI_API_KEY\")\n",
    "\n",
    "# llm = OpenAI(\n",
    "#     model=\"gpt-3.5-turbo\",\n",
    "#     temperature=0.7,\n",
    "#     max_tokens=1000,\n",
    "#     api_key=api_key\n",
    "# )"
   ]
  },
  {
   "cell_type": "code",
   "execution_count": 27,
   "id": "e3d7f7bb",
   "metadata": {},
   "outputs": [
    {
     "name": "stdout",
     "output_type": "stream",
     "text": [
      "Here is a 2-line explanation:\n",
      "\n",
      "In supervised learning, the algorithm is trained on labeled data where the correct output is already known, and the goal is to learn a mapping between input and output. In unsupervised learning, the algorithm is trained on unlabeled data, and the goal is to discover patterns, relationships, or structure in the data without a specific output in mind.\n"
     ]
    }
   ],
   "source": [
    "load_dotenv()\n",
    "\n",
    "llm = ChatOpenAI(\n",
    "    model=\"llama3-70b-8192\",  # or \"llama3-70b-8192\", \"mixtral-8x7b-32768\", \"llama3-8b-8192\"\n",
    "    openai_api_key=os.getenv(\"GROQ_API_KEY\"),\n",
    "    openai_api_base=\"https://api.groq.com/openai/v1\"\n",
    ")\n",
    "\n",
    "response = llm.invoke(\"Explain the difference between supervised and unsupervised learning in 2 lines.\")\n",
    "print(response.content)"
   ]
  },
  {
   "cell_type": "code",
   "execution_count": 36,
   "id": "ef88b2cd",
   "metadata": {},
   "outputs": [
    {
     "name": "stdout",
     "output_type": "stream",
     "text": [
      "{'question': 'What is the capital of India?', 'answer': 'The capital of India is New Delhi.'}\n",
      "The capital of India is New Delhi.\n"
     ]
    }
   ],
   "source": [
    "from langgraph.graph import StateGraph, START, END\n",
    "from typing import TypedDict\n",
    "\n",
    "class MyState(TypedDict):\n",
    "    question: str\n",
    "    answer: str\n",
    "\n",
    "def chat(state: MyState) -> MyState:\n",
    "    response = llm.invoke(state[\"question\"])\n",
    "    state[\"answer\"] = response.content\n",
    "    return state\n",
    "\n",
    "graph = StateGraph(MyState)\n",
    "\n",
    "graph.add_node(\"conversation\", chat)\n",
    "\n",
    "graph.add_edge(START, \"conversation\")\n",
    "graph.add_edge(\"conversation\", END)\n",
    "\n",
    "workflow = graph.compile()\n",
    "\n",
    "initial_state = MyState(question=\"What is the capital of India?\")\n",
    "final_state = workflow.invoke(initial_state)\n",
    "\n",
    "print(final_state)  # Should print the state with the answer\n",
    "print(final_state[\"answer\"])  # Should print \"New Delhi\"\n"
   ]
  },
  {
   "cell_type": "code",
   "execution_count": 37,
   "id": "486231b0",
   "metadata": {},
   "outputs": [
    {
     "data": {
      "image/png": "[encoded data removed]",
      "text/plain": [
       "<IPython.core.display.Image object>"
      ]
     },
     "execution_count": 37,
     "metadata": {},
     "output_type": "execute_result"
    }
   ],
   "source": [
    "from IPython.display import Image\n",
    "Image(workflow.get_graph().draw_mermaid_png())\n"
   ]
  }
 ],
 "metadata": {
  "kernelspec": {
   "display_name": "myenv (3.9.6)",
   "language": "python",
   "name": "python3"
  },
  "language_info": {
   "codemirror_mode": {
    "name": "ipython",
    "version": 3
   },
   "file_extension": ".py",
   "mimetype": "text/x-python",
   "name": "python",
   "nbconvert_exporter": "python",
   "pygments_lexer": "ipython3",
   "version": "3.9.6"
  }
 },
 "nbformat": 4,
 "nbformat_minor": 5
}
