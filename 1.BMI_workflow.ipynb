{
 "cells": [
  {
   "cell_type": "code",
   "execution_count": 3,
   "id": "abba3025",
   "metadata": {},
   "outputs": [
    {
     "name": "stderr",
     "output_type": "stream",
     "text": [
      "/Users/devanshu/Desktop/exploring-langgraph/myenv/lib/python3.9/site-packages/urllib3/__init__.py:35: NotOpenSSLWarning: urllib3 v2 only supports OpenSSL 1.1.1+, currently the 'ssl' module is compiled with 'LibreSSL 2.8.3'. See: https://github.com/urllib3/urllib3/issues/3020\n",
      "  warnings.warn(\n"
     ]
    }
   ],
   "source": [
    "from langgraph.graph import StateGraph, START, END\n",
    "from typing import TypedDict\n"
   ]
  },
  {
   "cell_type": "code",
   "execution_count": 4,
   "id": "6934c8a7",
   "metadata": {},
   "outputs": [],
   "source": [
    "class bmiState(TypedDict):\n",
    "    weight: float  # in kg\n",
    "    height: float  # in meters\n",
    "    bmi : float  # Body Mass Index\n",
    "    category: str  # BMI category"
   ]
  },
  {
   "cell_type": "code",
   "execution_count": 5,
   "id": "646f688c",
   "metadata": {},
   "outputs": [],
   "source": [
    "def bmi_calculator(state: bmiState) -> bmiState:\n",
    "    weight = state['weight']\n",
    "    height = state['height']\n",
    "\n",
    "    # Calculate BMI\n",
    "    bmi = weight / (height ** 2)\n",
    "    state['bmi'] = bmi\n",
    "\n",
    "    return state\n",
    "\n",
    "def bmi_category(state: bmiState) -> bmiState:\n",
    "    bmi = state['bmi']\n",
    "    if bmi < 18.5:\n",
    "        state['category'] = 'Underweight'\n",
    "    elif 18.5 <= bmi < 24.9:\n",
    "        state['category'] = 'Normal weight'\n",
    "    elif 25 <= bmi < 29.9:\n",
    "        state['category'] = 'Overweight'\n",
    "    else:\n",
    "        state['category'] = 'Obesity'\n",
    "    \n",
    "    return state"
   ]
  },
  {
   "cell_type": "code",
   "execution_count": 6,
   "id": "c7ae464d",
   "metadata": {},
   "outputs": [
    {
     "name": "stdout",
     "output_type": "stream",
     "text": [
      "Final State: {'weight': 70.0, 'height': 1.75, 'bmi': 22.857142857142858, 'category': 'Normal weight'}\n"
     ]
    }
   ],
   "source": [
    "graph = StateGraph(bmiState)\n",
    "\n",
    "graph.add_node(\"bmi_calculator\", bmi_calculator)\n",
    "graph.add_node(\"bmi_category\", bmi_category)\n",
    "\n",
    "graph.add_edge(START, 'bmi_calculator')\n",
    "graph.add_edge('bmi_calculator', 'bmi_category')\n",
    "graph.add_edge('bmi_category', END)\n",
    "\n",
    "workflow = graph.compile()\n",
    "\n",
    "initial_state = bmiState(weight=70.0, height=1.75, bmi=0.0, category='')\n",
    "final_state = workflow.invoke(initial_state)\n",
    "\n",
    "print(\"Final State:\", final_state)\n"
   ]
  },
  {
   "cell_type": "code",
   "execution_count": 7,
   "id": "7c853125",
   "metadata": {},
   "outputs": [
    {
     "data": {
      "image/png": "[encoded data removed]",
      "text/plain": [
       "<IPython.core.display.Image object>"
      ]
     },
     "execution_count": 7,
     "metadata": {},
     "output_type": "execute_result"
    }
   ],
   "source": [
    "from IPython.display import Image\n",
    "Image(workflow.get_graph().draw_mermaid_png())\n"
   ]
  }
 ],
 "metadata": {
  "kernelspec": {
   "display_name": "myenv",
   "language": "python",
   "name": "python3"
  },
  "language_info": {
   "codemirror_mode": {
    "name": "ipython",
    "version": 3
   },
   "file_extension": ".py",
   "mimetype": "text/x-python",
   "name": "python",
   "nbconvert_exporter": "python",
   "pygments_lexer": "ipython3",
   "version": "3.9.6"
  }
 },
 "nbformat": 4,
 "nbformat_minor": 5
}
