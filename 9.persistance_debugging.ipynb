{
 "cells": [
  {
   "cell_type": "code",
   "execution_count": 49,
   "id": "9367b409",
   "metadata": {},
   "outputs": [],
   "source": [
    "from langgraph.graph import StateGraph, START, END\n",
    "from typing import TypedDict, Annotated\n",
    "from langchain_core.messages import BaseMessage, HumanMessage\n",
    "from langchain_openai import ChatOpenAI\n",
    "from langgraph.graph.message import add_messages\n",
    "import os\n",
    "from langgraph.checkpoint.memory import InMemorySaver\n",
    "import time"
   ]
  },
  {
   "cell_type": "code",
   "execution_count": 50,
   "id": "8e8c7c84",
   "metadata": {},
   "outputs": [],
   "source": [
    "class MyState(TypedDict):\n",
    "    a : float\n",
    "    b : float\n",
    "    multiply: float\n",
    "    add: float"
   ]
  },
  {
   "cell_type": "code",
   "execution_count": 51,
   "id": "96ae8f4f",
   "metadata": {},
   "outputs": [],
   "source": [
    "def multiply(state : MyState) -> float:\n",
    "    print(\"Starting Multiplication step with inputs:\", state['a'], state['b'])\n",
    "    time.sleep(10)  # Simulate a delay for debugging purposes\n",
    "\n",
    "    print(\"Multiplication step executed with result:\", state['a'] * state['b'])\n",
    "    \n",
    "    return {'multiply': state['a'] * state['b']}\n",
    "\n",
    "def add(state: MyState) -> float:\n",
    "    add = state['a'] + state['b']\n",
    "    print(\"Addition step executed with result:\", add)\n",
    "    return {'add': add}"
   ]
  },
  {
   "cell_type": "code",
   "execution_count": 52,
   "id": "68ea7aee",
   "metadata": {},
   "outputs": [
    {
     "data": {
      "image/png": "[encoded data removed]",
      "text/plain": [
       "<langgraph.graph.state.CompiledStateGraph object at 0x10f90a340>"
      ]
     },
     "execution_count": 52,
     "metadata": {},
     "output_type": "execute_result"
    }
   ],
   "source": [
    "graph = StateGraph(MyState)\n",
    "\n",
    "graph.add_node('multiply', multiply)\n",
    "graph.add_node('add', add)\n",
    "\n",
    "graph.add_edge(START, 'add')\n",
    "graph.add_edge('add', 'multiply')\n",
    "graph.add_edge('multiply', END)\n",
    "\n",
    "checkpointer = InMemorySaver()\n",
    "\n",
    "workflow = graph.compile(checkpointer=checkpointer)\n",
    "\n",
    "workflow\n"
   ]
  },
  {
   "cell_type": "code",
   "execution_count": 53,
   "id": "c017115c",
   "metadata": {},
   "outputs": [
    {
     "name": "stdout",
     "output_type": "stream",
     "text": [
      "Addition step executed with result: 5\n",
      "Starting Multiplication step with inputs: 2 3\n"
     ]
    },
    {
     "ename": "KeyboardInterrupt",
     "evalue": "",
     "output_type": "error",
     "traceback": [
      "\u001b[0;31m---------------------------------------------------------------------------\u001b[0m",
      "\u001b[0;31mKeyboardInterrupt\u001b[0m                         Traceback (most recent call last)",
      "Cell \u001b[0;32mIn[53], line 3\u001b[0m\n\u001b[1;32m      1\u001b[0m config1 \u001b[38;5;241m=\u001b[39m {\u001b[38;5;124m\"\u001b[39m\u001b[38;5;124mconfigurable\u001b[39m\u001b[38;5;124m\"\u001b[39m : {\u001b[38;5;124m'\u001b[39m\u001b[38;5;124mthread_id\u001b[39m\u001b[38;5;124m'\u001b[39m : \u001b[38;5;241m1\u001b[39m}}\n\u001b[1;32m      2\u001b[0m initial_state \u001b[38;5;241m=\u001b[39m MyState(a\u001b[38;5;241m=\u001b[39m\u001b[38;5;241m2\u001b[39m, b\u001b[38;5;241m=\u001b[39m\u001b[38;5;241m3\u001b[39m)\n\u001b[0;32m----> 3\u001b[0m \u001b[43mworkflow\u001b[49m\u001b[38;5;241;43m.\u001b[39;49m\u001b[43minvoke\u001b[49m\u001b[43m(\u001b[49m\u001b[43minitial_state\u001b[49m\u001b[43m,\u001b[49m\u001b[43m \u001b[49m\u001b[43mconfig\u001b[49m\u001b[38;5;241;43m=\u001b[39;49m\u001b[43mconfig1\u001b[49m\u001b[43m)\u001b[49m\n",
      "File \u001b[0;32m~/Desktop/exploring-langgraph/myenv/lib/python3.9/site-packages/langgraph/pregel/main.py:3019\u001b[0m, in \u001b[0;36mPregel.invoke\u001b[0;34m(self, input, config, context, stream_mode, print_mode, output_keys, interrupt_before, interrupt_after, **kwargs)\u001b[0m\n\u001b[1;32m   3016\u001b[0m chunks: \u001b[38;5;28mlist\u001b[39m[\u001b[38;5;28mdict\u001b[39m[\u001b[38;5;28mstr\u001b[39m, Any] \u001b[38;5;241m|\u001b[39m Any] \u001b[38;5;241m=\u001b[39m []\n\u001b[1;32m   3017\u001b[0m interrupts: \u001b[38;5;28mlist\u001b[39m[Interrupt] \u001b[38;5;241m=\u001b[39m []\n\u001b[0;32m-> 3019\u001b[0m \u001b[38;5;28;01mfor\u001b[39;00m chunk \u001b[38;5;129;01min\u001b[39;00m \u001b[38;5;28mself\u001b[39m\u001b[38;5;241m.\u001b[39mstream(\n\u001b[1;32m   3020\u001b[0m     \u001b[38;5;28minput\u001b[39m,\n\u001b[1;32m   3021\u001b[0m     config,\n\u001b[1;32m   3022\u001b[0m     context\u001b[38;5;241m=\u001b[39mcontext,\n\u001b[1;32m   3023\u001b[0m     stream_mode\u001b[38;5;241m=\u001b[39m[\u001b[38;5;124m\"\u001b[39m\u001b[38;5;124mupdates\u001b[39m\u001b[38;5;124m\"\u001b[39m, \u001b[38;5;124m\"\u001b[39m\u001b[38;5;124mvalues\u001b[39m\u001b[38;5;124m\"\u001b[39m]\n\u001b[1;32m   3024\u001b[0m     \u001b[38;5;28;01mif\u001b[39;00m stream_mode \u001b[38;5;241m==\u001b[39m \u001b[38;5;124m\"\u001b[39m\u001b[38;5;124mvalues\u001b[39m\u001b[38;5;124m\"\u001b[39m\n\u001b[1;32m   3025\u001b[0m     \u001b[38;5;28;01melse\u001b[39;00m stream_mode,\n\u001b[1;32m   3026\u001b[0m     print_mode\u001b[38;5;241m=\u001b[39mprint_mode,\n\u001b[1;32m   3027\u001b[0m     output_keys\u001b[38;5;241m=\u001b[39moutput_keys,\n\u001b[1;32m   3028\u001b[0m     interrupt_before\u001b[38;5;241m=\u001b[39minterrupt_before,\n\u001b[1;32m   3029\u001b[0m     interrupt_after\u001b[38;5;241m=\u001b[39minterrupt_after,\n\u001b[1;32m   3030\u001b[0m     \u001b[38;5;241m*\u001b[39m\u001b[38;5;241m*\u001b[39mkwargs,\n\u001b[1;32m   3031\u001b[0m ):\n\u001b[1;32m   3032\u001b[0m     \u001b[38;5;28;01mif\u001b[39;00m stream_mode \u001b[38;5;241m==\u001b[39m \u001b[38;5;124m\"\u001b[39m\u001b[38;5;124mvalues\u001b[39m\u001b[38;5;124m\"\u001b[39m:\n\u001b[1;32m   3033\u001b[0m         \u001b[38;5;28;01mif\u001b[39;00m \u001b[38;5;28mlen\u001b[39m(chunk) \u001b[38;5;241m==\u001b[39m \u001b[38;5;241m2\u001b[39m:\n",
      "File \u001b[0;32m~/Desktop/exploring-langgraph/myenv/lib/python3.9/site-packages/langgraph/pregel/main.py:2651\u001b[0m, in \u001b[0;36mPregel.stream\u001b[0;34m(self, input, config, context, stream_mode, print_mode, output_keys, interrupt_before, interrupt_after, durability, subgraphs, debug, **kwargs)\u001b[0m\n\u001b[1;32m   2649\u001b[0m \u001b[38;5;28;01mfor\u001b[39;00m task \u001b[38;5;129;01min\u001b[39;00m loop\u001b[38;5;241m.\u001b[39mmatch_cached_writes():\n\u001b[1;32m   2650\u001b[0m     loop\u001b[38;5;241m.\u001b[39moutput_writes(task\u001b[38;5;241m.\u001b[39mid, task\u001b[38;5;241m.\u001b[39mwrites, cached\u001b[38;5;241m=\u001b[39m\u001b[38;5;28;01mTrue\u001b[39;00m)\n\u001b[0;32m-> 2651\u001b[0m \u001b[38;5;28;01mfor\u001b[39;00m _ \u001b[38;5;129;01min\u001b[39;00m runner\u001b[38;5;241m.\u001b[39mtick(\n\u001b[1;32m   2652\u001b[0m     [t \u001b[38;5;28;01mfor\u001b[39;00m t \u001b[38;5;129;01min\u001b[39;00m loop\u001b[38;5;241m.\u001b[39mtasks\u001b[38;5;241m.\u001b[39mvalues() \u001b[38;5;28;01mif\u001b[39;00m \u001b[38;5;129;01mnot\u001b[39;00m t\u001b[38;5;241m.\u001b[39mwrites],\n\u001b[1;32m   2653\u001b[0m     timeout\u001b[38;5;241m=\u001b[39m\u001b[38;5;28mself\u001b[39m\u001b[38;5;241m.\u001b[39mstep_timeout,\n\u001b[1;32m   2654\u001b[0m     get_waiter\u001b[38;5;241m=\u001b[39mget_waiter,\n\u001b[1;32m   2655\u001b[0m     schedule_task\u001b[38;5;241m=\u001b[39mloop\u001b[38;5;241m.\u001b[39maccept_push,\n\u001b[1;32m   2656\u001b[0m ):\n\u001b[1;32m   2657\u001b[0m     \u001b[38;5;66;03m# emit output\u001b[39;00m\n\u001b[1;32m   2658\u001b[0m     \u001b[38;5;28;01myield from\u001b[39;00m _output(\n\u001b[1;32m   2659\u001b[0m         stream_mode, print_mode, subgraphs, stream\u001b[38;5;241m.\u001b[39mget, queue\u001b[38;5;241m.\u001b[39mEmpty\n\u001b[1;32m   2660\u001b[0m     )\n\u001b[1;32m   2661\u001b[0m loop\u001b[38;5;241m.\u001b[39mafter_tick()\n",
      "File \u001b[0;32m~/Desktop/exploring-langgraph/myenv/lib/python3.9/site-packages/langgraph/pregel/_runner.py:162\u001b[0m, in \u001b[0;36mPregelRunner.tick\u001b[0;34m(self, tasks, reraise, timeout, retry_policy, get_waiter, schedule_task)\u001b[0m\n\u001b[1;32m    160\u001b[0m t \u001b[38;5;241m=\u001b[39m tasks[\u001b[38;5;241m0\u001b[39m]\n\u001b[1;32m    161\u001b[0m \u001b[38;5;28;01mtry\u001b[39;00m:\n\u001b[0;32m--> 162\u001b[0m     \u001b[43mrun_with_retry\u001b[49m\u001b[43m(\u001b[49m\n\u001b[1;32m    163\u001b[0m \u001b[43m        \u001b[49m\u001b[43mt\u001b[49m\u001b[43m,\u001b[49m\n\u001b[1;32m    164\u001b[0m \u001b[43m        \u001b[49m\u001b[43mretry_policy\u001b[49m\u001b[43m,\u001b[49m\n\u001b[1;32m    165\u001b[0m \u001b[43m        \u001b[49m\u001b[43mconfigurable\u001b[49m\u001b[38;5;241;43m=\u001b[39;49m\u001b[43m{\u001b[49m\n\u001b[1;32m    166\u001b[0m \u001b[43m            \u001b[49m\u001b[43mCONFIG_KEY_CALL\u001b[49m\u001b[43m:\u001b[49m\u001b[43m \u001b[49m\u001b[43mpartial\u001b[49m\u001b[43m(\u001b[49m\n\u001b[1;32m    167\u001b[0m \u001b[43m                \u001b[49m\u001b[43m_call\u001b[49m\u001b[43m,\u001b[49m\n\u001b[1;32m    168\u001b[0m \u001b[43m                \u001b[49m\u001b[43mweakref\u001b[49m\u001b[38;5;241;43m.\u001b[39;49m\u001b[43mref\u001b[49m\u001b[43m(\u001b[49m\u001b[43mt\u001b[49m\u001b[43m)\u001b[49m\u001b[43m,\u001b[49m\n\u001b[1;32m    169\u001b[0m \u001b[43m                \u001b[49m\u001b[43mretry_policy\u001b[49m\u001b[38;5;241;43m=\u001b[39;49m\u001b[43mretry_policy\u001b[49m\u001b[43m,\u001b[49m\n\u001b[1;32m    170\u001b[0m \u001b[43m                \u001b[49m\u001b[43mfutures\u001b[49m\u001b[38;5;241;43m=\u001b[39;49m\u001b[43mweakref\u001b[49m\u001b[38;5;241;43m.\u001b[39;49m\u001b[43mref\u001b[49m\u001b[43m(\u001b[49m\u001b[43mfutures\u001b[49m\u001b[43m)\u001b[49m\u001b[43m,\u001b[49m\n\u001b[1;32m    171\u001b[0m \u001b[43m                \u001b[49m\u001b[43mschedule_task\u001b[49m\u001b[38;5;241;43m=\u001b[39;49m\u001b[43mschedule_task\u001b[49m\u001b[43m,\u001b[49m\n\u001b[1;32m    172\u001b[0m \u001b[43m                \u001b[49m\u001b[43msubmit\u001b[49m\u001b[38;5;241;43m=\u001b[39;49m\u001b[38;5;28;43mself\u001b[39;49m\u001b[38;5;241;43m.\u001b[39;49m\u001b[43msubmit\u001b[49m\u001b[43m,\u001b[49m\n\u001b[1;32m    173\u001b[0m \u001b[43m            \u001b[49m\u001b[43m)\u001b[49m\u001b[43m,\u001b[49m\n\u001b[1;32m    174\u001b[0m \u001b[43m        \u001b[49m\u001b[43m}\u001b[49m\u001b[43m,\u001b[49m\n\u001b[1;32m    175\u001b[0m \u001b[43m    \u001b[49m\u001b[43m)\u001b[49m\n\u001b[1;32m    176\u001b[0m     \u001b[38;5;28mself\u001b[39m\u001b[38;5;241m.\u001b[39mcommit(t, \u001b[38;5;28;01mNone\u001b[39;00m)\n\u001b[1;32m    177\u001b[0m \u001b[38;5;28;01mexcept\u001b[39;00m \u001b[38;5;167;01mException\u001b[39;00m \u001b[38;5;28;01mas\u001b[39;00m exc:\n",
      "File \u001b[0;32m~/Desktop/exploring-langgraph/myenv/lib/python3.9/site-packages/langgraph/pregel/_retry.py:42\u001b[0m, in \u001b[0;36mrun_with_retry\u001b[0;34m(task, retry_policy, configurable)\u001b[0m\n\u001b[1;32m     40\u001b[0m     task\u001b[38;5;241m.\u001b[39mwrites\u001b[38;5;241m.\u001b[39mclear()\n\u001b[1;32m     41\u001b[0m     \u001b[38;5;66;03m# run the task\u001b[39;00m\n\u001b[0;32m---> 42\u001b[0m     \u001b[38;5;28;01mreturn\u001b[39;00m \u001b[43mtask\u001b[49m\u001b[38;5;241;43m.\u001b[39;49m\u001b[43mproc\u001b[49m\u001b[38;5;241;43m.\u001b[39;49m\u001b[43minvoke\u001b[49m\u001b[43m(\u001b[49m\u001b[43mtask\u001b[49m\u001b[38;5;241;43m.\u001b[39;49m\u001b[43minput\u001b[49m\u001b[43m,\u001b[49m\u001b[43m \u001b[49m\u001b[43mconfig\u001b[49m\u001b[43m)\u001b[49m\n\u001b[1;32m     43\u001b[0m \u001b[38;5;28;01mexcept\u001b[39;00m ParentCommand \u001b[38;5;28;01mas\u001b[39;00m exc:\n\u001b[1;32m     44\u001b[0m     ns: \u001b[38;5;28mstr\u001b[39m \u001b[38;5;241m=\u001b[39m config[CONF][CONFIG_KEY_CHECKPOINT_NS]\n",
      "File \u001b[0;32m~/Desktop/exploring-langgraph/myenv/lib/python3.9/site-packages/langgraph/_internal/_runnable.py:646\u001b[0m, in \u001b[0;36mRunnableSeq.invoke\u001b[0;34m(self, input, config, **kwargs)\u001b[0m\n\u001b[1;32m    644\u001b[0m     \u001b[38;5;66;03m# run in context\u001b[39;00m\n\u001b[1;32m    645\u001b[0m     \u001b[38;5;28;01mwith\u001b[39;00m set_config_context(config, run) \u001b[38;5;28;01mas\u001b[39;00m context:\n\u001b[0;32m--> 646\u001b[0m         \u001b[38;5;28minput\u001b[39m \u001b[38;5;241m=\u001b[39m \u001b[43mcontext\u001b[49m\u001b[38;5;241;43m.\u001b[39;49m\u001b[43mrun\u001b[49m\u001b[43m(\u001b[49m\u001b[43mstep\u001b[49m\u001b[38;5;241;43m.\u001b[39;49m\u001b[43minvoke\u001b[49m\u001b[43m,\u001b[49m\u001b[43m \u001b[49m\u001b[38;5;28;43minput\u001b[39;49m\u001b[43m,\u001b[49m\u001b[43m \u001b[49m\u001b[43mconfig\u001b[49m\u001b[43m,\u001b[49m\u001b[43m \u001b[49m\u001b[38;5;241;43m*\u001b[39;49m\u001b[38;5;241;43m*\u001b[39;49m\u001b[43mkwargs\u001b[49m\u001b[43m)\u001b[49m\n\u001b[1;32m    647\u001b[0m \u001b[38;5;28;01melse\u001b[39;00m:\n\u001b[1;32m    648\u001b[0m     \u001b[38;5;28minput\u001b[39m \u001b[38;5;241m=\u001b[39m step\u001b[38;5;241m.\u001b[39minvoke(\u001b[38;5;28minput\u001b[39m, config)\n",
      "File \u001b[0;32m~/Desktop/exploring-langgraph/myenv/lib/python3.9/site-packages/langgraph/_internal/_runnable.py:390\u001b[0m, in \u001b[0;36mRunnableCallable.invoke\u001b[0;34m(self, input, config, **kwargs)\u001b[0m\n\u001b[1;32m    388\u001b[0m         run_manager\u001b[38;5;241m.\u001b[39mon_chain_end(ret)\n\u001b[1;32m    389\u001b[0m \u001b[38;5;28;01melse\u001b[39;00m:\n\u001b[0;32m--> 390\u001b[0m     ret \u001b[38;5;241m=\u001b[39m \u001b[38;5;28;43mself\u001b[39;49m\u001b[38;5;241;43m.\u001b[39;49m\u001b[43mfunc\u001b[49m\u001b[43m(\u001b[49m\u001b[38;5;241;43m*\u001b[39;49m\u001b[43margs\u001b[49m\u001b[43m,\u001b[49m\u001b[43m \u001b[49m\u001b[38;5;241;43m*\u001b[39;49m\u001b[38;5;241;43m*\u001b[39;49m\u001b[43mkwargs\u001b[49m\u001b[43m)\u001b[49m\n\u001b[1;32m    391\u001b[0m \u001b[38;5;28;01mif\u001b[39;00m \u001b[38;5;28mself\u001b[39m\u001b[38;5;241m.\u001b[39mrecurse \u001b[38;5;129;01mand\u001b[39;00m \u001b[38;5;28misinstance\u001b[39m(ret, Runnable):\n\u001b[1;32m    392\u001b[0m     \u001b[38;5;28;01mreturn\u001b[39;00m ret\u001b[38;5;241m.\u001b[39minvoke(\u001b[38;5;28minput\u001b[39m, config)\n",
      "Cell \u001b[0;32mIn[51], line 3\u001b[0m, in \u001b[0;36mmultiply\u001b[0;34m(state)\u001b[0m\n\u001b[1;32m      1\u001b[0m \u001b[38;5;28;01mdef\u001b[39;00m\u001b[38;5;250m \u001b[39m\u001b[38;5;21mmultiply\u001b[39m(state : MyState) \u001b[38;5;241m-\u001b[39m\u001b[38;5;241m>\u001b[39m \u001b[38;5;28mfloat\u001b[39m:\n\u001b[1;32m      2\u001b[0m     \u001b[38;5;28mprint\u001b[39m(\u001b[38;5;124m\"\u001b[39m\u001b[38;5;124mStarting Multiplication step with inputs:\u001b[39m\u001b[38;5;124m\"\u001b[39m, state[\u001b[38;5;124m'\u001b[39m\u001b[38;5;124ma\u001b[39m\u001b[38;5;124m'\u001b[39m], state[\u001b[38;5;124m'\u001b[39m\u001b[38;5;124mb\u001b[39m\u001b[38;5;124m'\u001b[39m])\n\u001b[0;32m----> 3\u001b[0m     \u001b[43mtime\u001b[49m\u001b[38;5;241;43m.\u001b[39;49m\u001b[43msleep\u001b[49m\u001b[43m(\u001b[49m\u001b[38;5;241;43m10\u001b[39;49m\u001b[43m)\u001b[49m  \u001b[38;5;66;03m# Simulate a delay for debugging purposes\u001b[39;00m\n\u001b[1;32m      5\u001b[0m     \u001b[38;5;28mprint\u001b[39m(\u001b[38;5;124m\"\u001b[39m\u001b[38;5;124mMultiplication step executed with result:\u001b[39m\u001b[38;5;124m\"\u001b[39m, state[\u001b[38;5;124m'\u001b[39m\u001b[38;5;124ma\u001b[39m\u001b[38;5;124m'\u001b[39m] \u001b[38;5;241m*\u001b[39m state[\u001b[38;5;124m'\u001b[39m\u001b[38;5;124mb\u001b[39m\u001b[38;5;124m'\u001b[39m])\n\u001b[1;32m      7\u001b[0m     \u001b[38;5;28;01mreturn\u001b[39;00m {\u001b[38;5;124m'\u001b[39m\u001b[38;5;124mmultiply\u001b[39m\u001b[38;5;124m'\u001b[39m: state[\u001b[38;5;124m'\u001b[39m\u001b[38;5;124ma\u001b[39m\u001b[38;5;124m'\u001b[39m] \u001b[38;5;241m*\u001b[39m state[\u001b[38;5;124m'\u001b[39m\u001b[38;5;124mb\u001b[39m\u001b[38;5;124m'\u001b[39m]}\n",
      "\u001b[0;31mKeyboardInterrupt\u001b[0m: "
     ]
    }
   ],
   "source": [
    "config1 = {\"configurable\" : {'thread_id' : 1}}\n",
    "initial_state = MyState(a=2, b=3)\n",
    "workflow.invoke(initial_state, config=config1)"
   ]
  },
  {
   "cell_type": "code",
   "execution_count": 54,
   "id": "506cb339",
   "metadata": {},
   "outputs": [
    {
     "data": {
      "text/plain": [
       "[StateSnapshot(values={'a': 2, 'b': 3, 'add': 5}, next=('multiply',), config={'configurable': {'thread_id': '1', 'checkpoint_ns': '', 'checkpoint_id': '1f073327-c455-636c-8001-df1940e3e5b4'}}, metadata={'source': 'loop', 'step': 1, 'parents': {}}, created_at='2025-08-07T02:01:51.896245+00:00', parent_config={'configurable': {'thread_id': '1', 'checkpoint_ns': '', 'checkpoint_id': '1f073327-c453-65f8-8000-a6f4164b1fad'}}, tasks=(PregelTask(id='bef00393-461d-d58d-cbf5-5633d238f98a', name='multiply', path=('__pregel_pull', 'multiply'), error=None, interrupts=(), state=None, result=None),), interrupts=()),\n",
       " StateSnapshot(values={'a': 2, 'b': 3}, next=('add',), config={'configurable': {'thread_id': '1', 'checkpoint_ns': '', 'checkpoint_id': '1f073327-c453-65f8-8000-a6f4164b1fad'}}, metadata={'source': 'loop', 'step': 0, 'parents': {}}, created_at='2025-08-07T02:01:51.895489+00:00', parent_config={'configurable': {'thread_id': '1', 'checkpoint_ns': '', 'checkpoint_id': '1f073327-c452-6036-bfff-7171744496c8'}}, tasks=(PregelTask(id='bc0e0f1d-e70d-383c-e02f-6a0deba9ba94', name='add', path=('__pregel_pull', 'add'), error=None, interrupts=(), state=None, result={'add': 5}),), interrupts=()),\n",
       " StateSnapshot(values={}, next=('__start__',), config={'configurable': {'thread_id': '1', 'checkpoint_ns': '', 'checkpoint_id': '1f073327-c452-6036-bfff-7171744496c8'}}, metadata={'source': 'input', 'step': -1, 'parents': {}}, created_at='2025-08-07T02:01:51.894937+00:00', parent_config=None, tasks=(PregelTask(id='562a188f-a938-f289-d353-c5e426aa01b2', name='__start__', path=('__pregel_pull', '__start__'), error=None, interrupts=(), state=None, result={'a': 2, 'b': 3}),), interrupts=())]"
      ]
     },
     "execution_count": 54,
     "metadata": {},
     "output_type": "execute_result"
    }
   ],
   "source": [
    "list(workflow.get_state_history(config1))"
   ]
  },
  {
   "cell_type": "code",
   "execution_count": 55,
   "id": "5e4e533d",
   "metadata": {},
   "outputs": [
    {
     "name": "stdout",
     "output_type": "stream",
     "text": [
      "Starting Multiplication step with inputs: 2 3\n",
      "Multiplication step executed with result: 6\n"
     ]
    },
    {
     "data": {
      "text/plain": [
       "{'a': 2, 'b': 3, 'multiply': 6, 'add': 5}"
      ]
     },
     "execution_count": 55,
     "metadata": {},
     "output_type": "execute_result"
    }
   ],
   "source": [
    "workflow.invoke(None, config=config1)"
   ]
  },
  {
   "cell_type": "code",
   "execution_count": 56,
   "id": "fe9147f3",
   "metadata": {},
   "outputs": [
    {
     "data": {
      "text/plain": [
       "[StateSnapshot(values={'a': 2, 'b': 3, 'multiply': 6, 'add': 5}, next=(), config={'configurable': {'thread_id': '1', 'checkpoint_ns': '', 'checkpoint_id': '1f073328-9e40-6ef0-8002-74b0d44e835f'}}, metadata={'source': 'loop', 'step': 2, 'parents': {}}, created_at='2025-08-07T02:02:14.746863+00:00', parent_config={'configurable': {'thread_id': '1', 'checkpoint_ns': '', 'checkpoint_id': '1f073327-c455-636c-8001-df1940e3e5b4'}}, tasks=(), interrupts=()),\n",
       " StateSnapshot(values={'a': 2, 'b': 3, 'add': 5}, next=('multiply',), config={'configurable': {'thread_id': '1', 'checkpoint_ns': '', 'checkpoint_id': '1f073327-c455-636c-8001-df1940e3e5b4'}}, metadata={'source': 'loop', 'step': 1, 'parents': {}}, created_at='2025-08-07T02:01:51.896245+00:00', parent_config={'configurable': {'thread_id': '1', 'checkpoint_ns': '', 'checkpoint_id': '1f073327-c453-65f8-8000-a6f4164b1fad'}}, tasks=(PregelTask(id='bef00393-461d-d58d-cbf5-5633d238f98a', name='multiply', path=('__pregel_pull', 'multiply'), error=None, interrupts=(), state=None, result={'multiply': 6}),), interrupts=()),\n",
       " StateSnapshot(values={'a': 2, 'b': 3}, next=('add',), config={'configurable': {'thread_id': '1', 'checkpoint_ns': '', 'checkpoint_id': '1f073327-c453-65f8-8000-a6f4164b1fad'}}, metadata={'source': 'loop', 'step': 0, 'parents': {}}, created_at='2025-08-07T02:01:51.895489+00:00', parent_config={'configurable': {'thread_id': '1', 'checkpoint_ns': '', 'checkpoint_id': '1f073327-c452-6036-bfff-7171744496c8'}}, tasks=(PregelTask(id='bc0e0f1d-e70d-383c-e02f-6a0deba9ba94', name='add', path=('__pregel_pull', 'add'), error=None, interrupts=(), state=None, result={'add': 5}),), interrupts=()),\n",
       " StateSnapshot(values={}, next=('__start__',), config={'configurable': {'thread_id': '1', 'checkpoint_ns': '', 'checkpoint_id': '1f073327-c452-6036-bfff-7171744496c8'}}, metadata={'source': 'input', 'step': -1, 'parents': {}}, created_at='2025-08-07T02:01:51.894937+00:00', parent_config=None, tasks=(PregelTask(id='562a188f-a938-f289-d353-c5e426aa01b2', name='__start__', path=('__pregel_pull', '__start__'), error=None, interrupts=(), state=None, result={'a': 2, 'b': 3}),), interrupts=())]"
      ]
     },
     "execution_count": 56,
     "metadata": {},
     "output_type": "execute_result"
    }
   ],
   "source": [
    "list(workflow.get_state_history(config1))\n"
   ]
  },
  {
   "cell_type": "code",
   "execution_count": 58,
   "id": "191b741c",
   "metadata": {},
   "outputs": [
    {
     "name": "stdout",
     "output_type": "stream",
     "text": [
      "Addition step executed with result: 5\n",
      "Starting Multiplication step with inputs: 2 3\n",
      "Multiplication step executed with result: 6\n"
     ]
    },
    {
     "data": {
      "text/plain": [
       "{'a': 2, 'b': 3, 'multiply': 6, 'add': 5}"
      ]
     },
     "execution_count": 58,
     "metadata": {},
     "output_type": "execute_result"
    }
   ],
   "source": [
    "#  time traveling to simulate from a checkpoint\n",
    "workflow.invoke(None, config = {\"configurable\" : {'thread_id' : 1, 'checkpoint_id' : '1f073327-c453-65f8-8000-a6f4164b1fad' }})"
   ]
  },
  {
   "cell_type": "code",
   "execution_count": 59,
   "id": "79c0974e",
   "metadata": {},
   "outputs": [
    {
     "data": {
      "text/plain": [
       "[StateSnapshot(values={'a': 2, 'b': 3, 'multiply': 6, 'add': 5}, next=(), config={'configurable': {'thread_id': '1', 'checkpoint_ns': '', 'checkpoint_id': '1f073329-e781-65a0-8002-506d6aebc7b8'}}, metadata={'source': 'loop', 'step': 2, 'parents': {}}, created_at='2025-08-07T02:02:49.271398+00:00', parent_config={'configurable': {'thread_id': '1', 'checkpoint_ns': '', 'checkpoint_id': '1f073329-8814-6180-8001-1902e8438281'}}, tasks=(), interrupts=()),\n",
       " StateSnapshot(values={'a': 2, 'b': 3, 'add': 5}, next=('multiply',), config={'configurable': {'thread_id': '1', 'checkpoint_ns': '', 'checkpoint_id': '1f073329-8814-6180-8001-1902e8438281'}}, metadata={'source': 'loop', 'step': 1, 'parents': {}}, created_at='2025-08-07T02:02:39.265206+00:00', parent_config={'configurable': {'thread_id': '1', 'checkpoint_ns': '', 'checkpoint_id': '1f073327-c453-65f8-8000-a6f4164b1fad'}}, tasks=(PregelTask(id='ae935497-922d-70fa-b243-dba95a238c47', name='multiply', path=('__pregel_pull', 'multiply'), error=None, interrupts=(), state=None, result={'multiply': 6}),), interrupts=()),\n",
       " StateSnapshot(values={'a': 2, 'b': 3, 'multiply': 6, 'add': 5}, next=(), config={'configurable': {'thread_id': '1', 'checkpoint_ns': '', 'checkpoint_id': '1f073328-9e40-6ef0-8002-74b0d44e835f'}}, metadata={'source': 'loop', 'step': 2, 'parents': {}}, created_at='2025-08-07T02:02:14.746863+00:00', parent_config={'configurable': {'thread_id': '1', 'checkpoint_ns': '', 'checkpoint_id': '1f073327-c455-636c-8001-df1940e3e5b4'}}, tasks=(), interrupts=()),\n",
       " StateSnapshot(values={'a': 2, 'b': 3, 'add': 5}, next=('multiply',), config={'configurable': {'thread_id': '1', 'checkpoint_ns': '', 'checkpoint_id': '1f073327-c455-636c-8001-df1940e3e5b4'}}, metadata={'source': 'loop', 'step': 1, 'parents': {}}, created_at='2025-08-07T02:01:51.896245+00:00', parent_config={'configurable': {'thread_id': '1', 'checkpoint_ns': '', 'checkpoint_id': '1f073327-c453-65f8-8000-a6f4164b1fad'}}, tasks=(PregelTask(id='bef00393-461d-d58d-cbf5-5633d238f98a', name='multiply', path=('__pregel_pull', 'multiply'), error=None, interrupts=(), state=None, result={'multiply': 6}),), interrupts=()),\n",
       " StateSnapshot(values={'a': 2, 'b': 3}, next=('add',), config={'configurable': {'thread_id': '1', 'checkpoint_ns': '', 'checkpoint_id': '1f073327-c453-65f8-8000-a6f4164b1fad'}}, metadata={'source': 'loop', 'step': 0, 'parents': {}}, created_at='2025-08-07T02:01:51.895489+00:00', parent_config={'configurable': {'thread_id': '1', 'checkpoint_ns': '', 'checkpoint_id': '1f073327-c452-6036-bfff-7171744496c8'}}, tasks=(PregelTask(id='bc0e0f1d-e70d-383c-e02f-6a0deba9ba94', name='add', path=('__pregel_pull', 'add'), error=None, interrupts=(), state=None, result={'add': 5}),), interrupts=()),\n",
       " StateSnapshot(values={}, next=('__start__',), config={'configurable': {'thread_id': '1', 'checkpoint_ns': '', 'checkpoint_id': '1f073327-c452-6036-bfff-7171744496c8'}}, metadata={'source': 'input', 'step': -1, 'parents': {}}, created_at='2025-08-07T02:01:51.894937+00:00', parent_config=None, tasks=(PregelTask(id='562a188f-a938-f289-d353-c5e426aa01b2', name='__start__', path=('__pregel_pull', '__start__'), error=None, interrupts=(), state=None, result={'a': 2, 'b': 3}),), interrupts=())]"
      ]
     },
     "execution_count": 59,
     "metadata": {},
     "output_type": "execute_result"
    }
   ],
   "source": [
    "list(workflow.get_state_history(config1))"
   ]
  },
  {
   "cell_type": "code",
   "execution_count": 62,
   "id": "151dc80e",
   "metadata": {},
   "outputs": [
    {
     "name": "stdout",
     "output_type": "stream",
     "text": [
      "Addition step executed with result: 8\n",
      "Starting Multiplication step with inputs: 5 3\n",
      "Multiplication step executed with result: 15\n"
     ]
    },
    {
     "data": {
      "text/plain": [
       "{'a': 5, 'b': 3, 'multiply': 15, 'add': 8}"
      ]
     },
     "execution_count": 62,
     "metadata": {},
     "output_type": "execute_result"
    }
   ],
   "source": [
    "#  updating the state and invoking again\n",
    "workflow.invoke({'a':5}, config = {\"configurable\" : {'thread_id' : 1, 'checkpoint_id' : '1f073327-c455-636c-8001-df1940e3e5b4' }})"
   ]
  },
  {
   "cell_type": "code",
   "execution_count": 63,
   "id": "588e622a",
   "metadata": {},
   "outputs": [
    {
     "data": {
      "text/plain": [
       "[StateSnapshot(values={'a': 5, 'b': 3, 'multiply': 15, 'add': 8}, next=(), config={'configurable': {'thread_id': '1', 'checkpoint_ns': '', 'checkpoint_id': '1f07332d-7ff8-6fc4-8005-814c4c64ea42'}}, metadata={'source': 'loop', 'step': 5, 'parents': {}}, created_at='2025-08-07T02:04:25.789348+00:00', parent_config={'configurable': {'thread_id': '1', 'checkpoint_ns': '', 'checkpoint_id': '1f07332d-2082-6298-8004-b4003be890c2'}}, tasks=(), interrupts=()),\n",
       " StateSnapshot(values={'a': 5, 'b': 3, 'add': 8}, next=('multiply',), config={'configurable': {'thread_id': '1', 'checkpoint_ns': '', 'checkpoint_id': '1f07332d-2082-6298-8004-b4003be890c2'}}, metadata={'source': 'loop', 'step': 4, 'parents': {}}, created_at='2025-08-07T02:04:15.779281+00:00', parent_config={'configurable': {'thread_id': '1', 'checkpoint_ns': '', 'checkpoint_id': '1f07332d-2080-6772-8003-6979d290acbd'}}, tasks=(PregelTask(id='882fecd4-8e2d-3af4-8cd9-a548fe8d3c2f', name='multiply', path=('__pregel_pull', 'multiply'), error=None, interrupts=(), state=None, result={'multiply': 15}),), interrupts=()),\n",
       " StateSnapshot(values={'a': 5, 'b': 3, 'add': 5}, next=('add',), config={'configurable': {'thread_id': '1', 'checkpoint_ns': '', 'checkpoint_id': '1f07332d-2080-6772-8003-6979d290acbd'}}, metadata={'source': 'loop', 'step': 3, 'parents': {}}, created_at='2025-08-07T02:04:15.778587+00:00', parent_config={'configurable': {'thread_id': '1', 'checkpoint_ns': '', 'checkpoint_id': '1f07332d-207e-6a76-8002-3d75f4d2dbd2'}}, tasks=(PregelTask(id='d3ebfa9f-c973-c373-b605-afb34b687efe', name='add', path=('__pregel_pull', 'add'), error=None, interrupts=(), state=None, result={'add': 8}),), interrupts=()),\n",
       " StateSnapshot(values={'a': 2, 'b': 3, 'add': 5}, next=('__start__',), config={'configurable': {'thread_id': '1', 'checkpoint_ns': '', 'checkpoint_id': '1f07332d-207e-6a76-8002-3d75f4d2dbd2'}}, metadata={'source': 'input', 'step': 2, 'parents': {}}, created_at='2025-08-07T02:04:15.777846+00:00', parent_config={'configurable': {'thread_id': '1', 'checkpoint_ns': '', 'checkpoint_id': '1f073327-c455-636c-8001-df1940e3e5b4'}}, tasks=(PregelTask(id='eb97a0ff-3dec-15e4-8968-1332a45f2b8f', name='__start__', path=('__pregel_pull', '__start__'), error=None, interrupts=(), state=None, result={'a': 5}),), interrupts=()),\n",
       " StateSnapshot(values={'a': 5}, next=('add',), config={'configurable': {'thread_id': '1', 'checkpoint_ns': '', 'checkpoint_id': '1f07332a-fa44-6f06-8000-ee71f0489d74'}}, metadata={'source': 'loop', 'step': 0, 'parents': {}}, created_at='2025-08-07T02:03:18.082528+00:00', parent_config={'configurable': {'thread_id': '1', 'checkpoint_ns': '', 'checkpoint_id': '1f07332a-fa42-6e40-bfff-4d529e5bf4a8'}}, tasks=(PregelTask(id='766cc2f1-eef1-113a-7d6d-020f0b9a18ff', name='add', path=('__pregel_pull', 'add'), error=\"KeyError('b')\", interrupts=(), state=None, result=None),), interrupts=()),\n",
       " StateSnapshot(values={}, next=('__start__',), config={'configurable': {'thread_id': '1', 'checkpoint_ns': '', 'checkpoint_id': '1f07332a-fa42-6e40-bfff-4d529e5bf4a8'}}, metadata={'source': 'input', 'step': -1, 'parents': {}}, created_at='2025-08-07T02:03:18.081690+00:00', parent_config={'configurable': {'thread_id': '1', 'checkpoint_ns': '', 'checkpoint_id': '11f073327-c453-65f8-8000-a6f4164b1fad'}}, tasks=(PregelTask(id='fc040e48-288e-c9d8-d4b9-ecf4b9279c55', name='__start__', path=('__pregel_pull', '__start__'), error=None, interrupts=(), state=None, result={'a': 5}),), interrupts=()),\n",
       " StateSnapshot(values={'a': 5}, next=('add',), config={'configurable': {'thread_id': '1', 'checkpoint_ns': '', 'checkpoint_id': '1f07332a-3cef-6bb8-8000-e879db4dcda0'}}, metadata={'source': 'loop', 'step': 0, 'parents': {}}, created_at='2025-08-07T02:02:58.229541+00:00', parent_config={'configurable': {'thread_id': '1', 'checkpoint_ns': '', 'checkpoint_id': '1f07332a-3cee-64ac-bfff-bfb34c2ffd41'}}, tasks=(PregelTask(id='485250f0-7292-9b4c-a15d-864d27410d16', name='add', path=('__pregel_pull', 'add'), error=\"KeyError('b')\", interrupts=(), state=None, result=None),), interrupts=()),\n",
       " StateSnapshot(values={}, next=('__start__',), config={'configurable': {'thread_id': '1', 'checkpoint_ns': '', 'checkpoint_id': '1f07332a-3cee-64ac-bfff-bfb34c2ffd41'}}, metadata={'source': 'input', 'step': -1, 'parents': {}}, created_at='2025-08-07T02:02:58.228953+00:00', parent_config={'configurable': {'thread_id': '1', 'checkpoint_ns': '', 'checkpoint_id': '1f07331f-311c-622e-8002-5f92ee507ee0'}}, tasks=(PregelTask(id='6e0f9da3-7cb7-3541-02e5-d9a577c96c54', name='__start__', path=('__pregel_pull', '__start__'), error=None, interrupts=(), state=None, result={'a': 5}),), interrupts=()),\n",
       " StateSnapshot(values={'a': 2, 'b': 3, 'multiply': 6, 'add': 5}, next=(), config={'configurable': {'thread_id': '1', 'checkpoint_ns': '', 'checkpoint_id': '1f073329-e781-65a0-8002-506d6aebc7b8'}}, metadata={'source': 'loop', 'step': 2, 'parents': {}}, created_at='2025-08-07T02:02:49.271398+00:00', parent_config={'configurable': {'thread_id': '1', 'checkpoint_ns': '', 'checkpoint_id': '1f073329-8814-6180-8001-1902e8438281'}}, tasks=(), interrupts=()),\n",
       " StateSnapshot(values={'a': 2, 'b': 3, 'add': 5}, next=('multiply',), config={'configurable': {'thread_id': '1', 'checkpoint_ns': '', 'checkpoint_id': '1f073329-8814-6180-8001-1902e8438281'}}, metadata={'source': 'loop', 'step': 1, 'parents': {}}, created_at='2025-08-07T02:02:39.265206+00:00', parent_config={'configurable': {'thread_id': '1', 'checkpoint_ns': '', 'checkpoint_id': '1f073327-c453-65f8-8000-a6f4164b1fad'}}, tasks=(PregelTask(id='ae935497-922d-70fa-b243-dba95a238c47', name='multiply', path=('__pregel_pull', 'multiply'), error=None, interrupts=(), state=None, result={'multiply': 6}),), interrupts=()),\n",
       " StateSnapshot(values={'a': 2, 'b': 3, 'multiply': 6, 'add': 5}, next=(), config={'configurable': {'thread_id': '1', 'checkpoint_ns': '', 'checkpoint_id': '1f073328-9e40-6ef0-8002-74b0d44e835f'}}, metadata={'source': 'loop', 'step': 2, 'parents': {}}, created_at='2025-08-07T02:02:14.746863+00:00', parent_config={'configurable': {'thread_id': '1', 'checkpoint_ns': '', 'checkpoint_id': '1f073327-c455-636c-8001-df1940e3e5b4'}}, tasks=(), interrupts=()),\n",
       " StateSnapshot(values={'a': 2, 'b': 3, 'add': 5}, next=('multiply',), config={'configurable': {'thread_id': '1', 'checkpoint_ns': '', 'checkpoint_id': '1f073327-c455-636c-8001-df1940e3e5b4'}}, metadata={'source': 'loop', 'step': 1, 'parents': {}}, created_at='2025-08-07T02:01:51.896245+00:00', parent_config={'configurable': {'thread_id': '1', 'checkpoint_ns': '', 'checkpoint_id': '1f073327-c453-65f8-8000-a6f4164b1fad'}}, tasks=(PregelTask(id='bef00393-461d-d58d-cbf5-5633d238f98a', name='multiply', path=('__pregel_pull', 'multiply'), error=None, interrupts=(), state=None, result={'multiply': 6}),), interrupts=()),\n",
       " StateSnapshot(values={'a': 2, 'b': 3}, next=('add',), config={'configurable': {'thread_id': '1', 'checkpoint_ns': '', 'checkpoint_id': '1f073327-c453-65f8-8000-a6f4164b1fad'}}, metadata={'source': 'loop', 'step': 0, 'parents': {}}, created_at='2025-08-07T02:01:51.895489+00:00', parent_config={'configurable': {'thread_id': '1', 'checkpoint_ns': '', 'checkpoint_id': '1f073327-c452-6036-bfff-7171744496c8'}}, tasks=(PregelTask(id='bc0e0f1d-e70d-383c-e02f-6a0deba9ba94', name='add', path=('__pregel_pull', 'add'), error=None, interrupts=(), state=None, result={'add': 5}),), interrupts=()),\n",
       " StateSnapshot(values={}, next=('__start__',), config={'configurable': {'thread_id': '1', 'checkpoint_ns': '', 'checkpoint_id': '1f073327-c452-6036-bfff-7171744496c8'}}, metadata={'source': 'input', 'step': -1, 'parents': {}}, created_at='2025-08-07T02:01:51.894937+00:00', parent_config=None, tasks=(PregelTask(id='562a188f-a938-f289-d353-c5e426aa01b2', name='__start__', path=('__pregel_pull', '__start__'), error=None, interrupts=(), state=None, result={'a': 2, 'b': 3}),), interrupts=())]"
      ]
     },
     "execution_count": 63,
     "metadata": {},
     "output_type": "execute_result"
    }
   ],
   "source": [
    "list(workflow.get_state_history(config1))"
   ]
  }
 ],
 "metadata": {
  "kernelspec": {
   "display_name": "myenv (3.9.6)",
   "language": "python",
   "name": "python3"
  },
  "language_info": {
   "codemirror_mode": {
    "name": "ipython",
    "version": 3
   },
   "file_extension": ".py",
   "mimetype": "text/x-python",
   "name": "python",
   "nbconvert_exporter": "python",
   "pygments_lexer": "ipython3",
   "version": "3.9.6"
  }
 },
 "nbformat": 4,
 "nbformat_minor": 5
}
